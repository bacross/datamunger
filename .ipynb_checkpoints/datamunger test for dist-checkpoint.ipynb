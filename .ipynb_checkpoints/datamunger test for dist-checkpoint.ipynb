{
 "cells": [
  {
   "cell_type": "code",
   "execution_count": 2,
   "metadata": {
    "collapsed": false
   },
   "outputs": [],
   "source": [
    "import numpy as np\n",
    "import pandas as pd\n",
    "import random\n",
    "from sklearn.neighbors import KNeighborsRegressor\n",
    "import timeit\n",
    "import sys\n",
    "from joblib import Parallel, delayed\n",
    "import importlib"
   ]
  },
  {
   "cell_type": "code",
   "execution_count": 3,
   "metadata": {
    "collapsed": true
   },
   "outputs": [],
   "source": [
    "sys.path.append('/datamunger')"
   ]
  },
  {
   "cell_type": "code",
   "execution_count": 4,
   "metadata": {
    "collapsed": true
   },
   "outputs": [],
   "source": [
    "import imputeKNN as iknn"
   ]
  },
  {
   "cell_type": "code",
   "execution_count": 5,
   "metadata": {
    "collapsed": true
   },
   "outputs": [],
   "source": [
    "df = pd.DataFrame(np.random.randn(1000,5))\n",
    "ix = [(row,col) for row in range (df.shape[0]) for col in range(df.shape[1])]\n",
    "for row, col in random.sample(ix, int(round(.1*len(ix)))):\n",
    "    df.iat[row,col]=np.nan"
   ]
  },
  {
   "cell_type": "code",
   "execution_count": 6,
   "metadata": {
    "collapsed": false
   },
   "outputs": [
    {
     "data": {
      "text/html": [
       "<div>\n",
       "<table border=\"1\" class=\"dataframe\">\n",
       "  <thead>\n",
       "    <tr style=\"text-align: right;\">\n",
       "      <th></th>\n",
       "      <th>0</th>\n",
       "      <th>1</th>\n",
       "      <th>2</th>\n",
       "      <th>3</th>\n",
       "      <th>4</th>\n",
       "    </tr>\n",
       "  </thead>\n",
       "  <tbody>\n",
       "    <tr>\n",
       "      <th>0</th>\n",
       "      <td>NaN</td>\n",
       "      <td>-0.405989</td>\n",
       "      <td>0.295981</td>\n",
       "      <td>-0.526300</td>\n",
       "      <td>1.145245</td>\n",
       "    </tr>\n",
       "    <tr>\n",
       "      <th>1</th>\n",
       "      <td>0.302822</td>\n",
       "      <td>1.484632</td>\n",
       "      <td>-0.680715</td>\n",
       "      <td>0.167210</td>\n",
       "      <td>-0.282413</td>\n",
       "    </tr>\n",
       "    <tr>\n",
       "      <th>2</th>\n",
       "      <td>-0.350472</td>\n",
       "      <td>-0.375773</td>\n",
       "      <td>NaN</td>\n",
       "      <td>1.094130</td>\n",
       "      <td>0.317750</td>\n",
       "    </tr>\n",
       "    <tr>\n",
       "      <th>3</th>\n",
       "      <td>0.310562</td>\n",
       "      <td>0.515591</td>\n",
       "      <td>-1.689293</td>\n",
       "      <td>0.622763</td>\n",
       "      <td>-0.958986</td>\n",
       "    </tr>\n",
       "    <tr>\n",
       "      <th>4</th>\n",
       "      <td>0.637836</td>\n",
       "      <td>NaN</td>\n",
       "      <td>-0.020487</td>\n",
       "      <td>0.584991</td>\n",
       "      <td>0.732111</td>\n",
       "    </tr>\n",
       "  </tbody>\n",
       "</table>\n",
       "</div>"
      ],
      "text/plain": [
       "          0         1         2         3         4\n",
       "0       NaN -0.405989  0.295981 -0.526300  1.145245\n",
       "1  0.302822  1.484632 -0.680715  0.167210 -0.282413\n",
       "2 -0.350472 -0.375773       NaN  1.094130  0.317750\n",
       "3  0.310562  0.515591 -1.689293  0.622763 -0.958986\n",
       "4  0.637836       NaN -0.020487  0.584991  0.732111"
      ]
     },
     "execution_count": 6,
     "metadata": {},
     "output_type": "execute_result"
    }
   ],
   "source": [
    "df.head()"
   ]
  },
  {
   "cell_type": "code",
   "execution_count": 43,
   "metadata": {
    "collapsed": false
   },
   "outputs": [
    {
     "data": {
      "text/plain": [
       "<module 'imputeKNN' from 'imputeKNN.py'>"
      ]
     },
     "execution_count": 43,
     "metadata": {},
     "output_type": "execute_result"
    }
   ],
   "source": [
    "reload(iknn)"
   ]
  },
  {
   "cell_type": "code",
   "execution_count": 46,
   "metadata": {
    "collapsed": false
   },
   "outputs": [
    {
     "name": "stdout",
     "output_type": "stream",
     "text": [
      "1.51469581899\n"
     ]
    }
   ],
   "source": [
    "# code to remove missing data\n",
    "start_time = timeit.default_timer()\n",
    "newdf = iknn.imputeMissingDataKNN(df,30,multicore=False)\n",
    "elapsed = timeit.default_timer() - start_time\n",
    "print(elapsed)"
   ]
  },
  {
   "cell_type": "code",
   "execution_count": 47,
   "metadata": {
    "collapsed": false
   },
   "outputs": [
    {
     "name": "stdout",
     "output_type": "stream",
     "text": [
      "1.57565181645\n"
     ]
    }
   ],
   "source": [
    "# code to remove outliers\n",
    "start_time = timeit.default_timer()\n",
    "cleandf = iknn.imputeOutlierKNN(newdf,lower_lim=0.05,upper_lim=0.95,k=30,multicore=False)\n",
    "elapsed = timeit.default_timer() - start_time\n",
    "print(elapsed)"
   ]
  },
  {
   "cell_type": "code",
   "execution_count": 50,
   "metadata": {
    "collapsed": false
   },
   "outputs": [
    {
     "data": {
      "text/html": [
       "<div>\n",
       "<table border=\"1\" class=\"dataframe\">\n",
       "  <thead>\n",
       "    <tr style=\"text-align: right;\">\n",
       "      <th></th>\n",
       "      <th>0</th>\n",
       "      <th>1</th>\n",
       "      <th>2</th>\n",
       "      <th>3</th>\n",
       "      <th>4</th>\n",
       "    </tr>\n",
       "  </thead>\n",
       "  <tbody>\n",
       "    <tr>\n",
       "      <th>0</th>\n",
       "      <td>NaN</td>\n",
       "      <td>-0.405989</td>\n",
       "      <td>0.295981</td>\n",
       "      <td>-0.526300</td>\n",
       "      <td>1.145245</td>\n",
       "    </tr>\n",
       "    <tr>\n",
       "      <th>1</th>\n",
       "      <td>0.302822</td>\n",
       "      <td>1.484632</td>\n",
       "      <td>-0.680715</td>\n",
       "      <td>0.167210</td>\n",
       "      <td>-0.282413</td>\n",
       "    </tr>\n",
       "    <tr>\n",
       "      <th>2</th>\n",
       "      <td>-0.350472</td>\n",
       "      <td>-0.375773</td>\n",
       "      <td>NaN</td>\n",
       "      <td>1.094130</td>\n",
       "      <td>0.317750</td>\n",
       "    </tr>\n",
       "    <tr>\n",
       "      <th>3</th>\n",
       "      <td>0.310562</td>\n",
       "      <td>0.515591</td>\n",
       "      <td>-1.689293</td>\n",
       "      <td>0.622763</td>\n",
       "      <td>-0.958986</td>\n",
       "    </tr>\n",
       "    <tr>\n",
       "      <th>4</th>\n",
       "      <td>0.637836</td>\n",
       "      <td>NaN</td>\n",
       "      <td>-0.020487</td>\n",
       "      <td>0.584991</td>\n",
       "      <td>0.732111</td>\n",
       "    </tr>\n",
       "  </tbody>\n",
       "</table>\n",
       "</div>"
      ],
      "text/plain": [
       "          0         1         2         3         4\n",
       "0       NaN -0.405989  0.295981 -0.526300  1.145245\n",
       "1  0.302822  1.484632 -0.680715  0.167210 -0.282413\n",
       "2 -0.350472 -0.375773       NaN  1.094130  0.317750\n",
       "3  0.310562  0.515591 -1.689293  0.622763 -0.958986\n",
       "4  0.637836       NaN -0.020487  0.584991  0.732111"
      ]
     },
     "execution_count": 50,
     "metadata": {},
     "output_type": "execute_result"
    }
   ],
   "source": [
    "df.head()"
   ]
  },
  {
   "cell_type": "code",
   "execution_count": 49,
   "metadata": {
    "collapsed": false
   },
   "outputs": [
    {
     "data": {
      "text/html": [
       "<div>\n",
       "<table border=\"1\" class=\"dataframe\">\n",
       "  <thead>\n",
       "    <tr style=\"text-align: right;\">\n",
       "      <th></th>\n",
       "      <th>0</th>\n",
       "      <th>1</th>\n",
       "      <th>2</th>\n",
       "      <th>3</th>\n",
       "      <th>4</th>\n",
       "    </tr>\n",
       "  </thead>\n",
       "  <tbody>\n",
       "    <tr>\n",
       "      <th>0</th>\n",
       "      <td>-0.262658</td>\n",
       "      <td>-0.405989</td>\n",
       "      <td>0.295981</td>\n",
       "      <td>-0.526300</td>\n",
       "      <td>1.145245</td>\n",
       "    </tr>\n",
       "    <tr>\n",
       "      <th>1</th>\n",
       "      <td>0.302822</td>\n",
       "      <td>1.484632</td>\n",
       "      <td>-0.680715</td>\n",
       "      <td>0.167210</td>\n",
       "      <td>-0.282413</td>\n",
       "    </tr>\n",
       "    <tr>\n",
       "      <th>2</th>\n",
       "      <td>-0.350472</td>\n",
       "      <td>-0.375773</td>\n",
       "      <td>-0.005060</td>\n",
       "      <td>1.094130</td>\n",
       "      <td>0.317750</td>\n",
       "    </tr>\n",
       "    <tr>\n",
       "      <th>3</th>\n",
       "      <td>0.310562</td>\n",
       "      <td>0.515591</td>\n",
       "      <td>-0.055195</td>\n",
       "      <td>0.622763</td>\n",
       "      <td>-0.958986</td>\n",
       "    </tr>\n",
       "    <tr>\n",
       "      <th>4</th>\n",
       "      <td>0.637836</td>\n",
       "      <td>0.008554</td>\n",
       "      <td>-0.020487</td>\n",
       "      <td>0.584991</td>\n",
       "      <td>0.732111</td>\n",
       "    </tr>\n",
       "  </tbody>\n",
       "</table>\n",
       "</div>"
      ],
      "text/plain": [
       "          0         1         2         3         4\n",
       "0 -0.262658 -0.405989  0.295981 -0.526300  1.145245\n",
       "1  0.302822  1.484632 -0.680715  0.167210 -0.282413\n",
       "2 -0.350472 -0.375773 -0.005060  1.094130  0.317750\n",
       "3  0.310562  0.515591 -0.055195  0.622763 -0.958986\n",
       "4  0.637836  0.008554 -0.020487  0.584991  0.732111"
      ]
     },
     "execution_count": 49,
     "metadata": {},
     "output_type": "execute_result"
    }
   ],
   "source": [
    "cleandf.head()"
   ]
  },
  {
   "cell_type": "code",
   "execution_count": 52,
   "metadata": {
    "collapsed": false
   },
   "outputs": [
    {
     "data": {
      "text/html": [
       "<div>\n",
       "<table border=\"1\" class=\"dataframe\">\n",
       "  <thead>\n",
       "    <tr style=\"text-align: right;\">\n",
       "      <th></th>\n",
       "      <th>0</th>\n",
       "      <th>1</th>\n",
       "      <th>2</th>\n",
       "      <th>3</th>\n",
       "      <th>4</th>\n",
       "    </tr>\n",
       "  </thead>\n",
       "  <tbody>\n",
       "    <tr>\n",
       "      <th>0</th>\n",
       "      <td>0.030099</td>\n",
       "      <td>-0.405989</td>\n",
       "      <td>0.295981</td>\n",
       "      <td>-0.526300</td>\n",
       "      <td>1.145245</td>\n",
       "    </tr>\n",
       "    <tr>\n",
       "      <th>1</th>\n",
       "      <td>0.302822</td>\n",
       "      <td>1.484632</td>\n",
       "      <td>-0.680715</td>\n",
       "      <td>0.167210</td>\n",
       "      <td>-0.282413</td>\n",
       "    </tr>\n",
       "    <tr>\n",
       "      <th>2</th>\n",
       "      <td>-0.350472</td>\n",
       "      <td>-0.375773</td>\n",
       "      <td>0.019144</td>\n",
       "      <td>1.094130</td>\n",
       "      <td>0.317750</td>\n",
       "    </tr>\n",
       "    <tr>\n",
       "      <th>3</th>\n",
       "      <td>0.310562</td>\n",
       "      <td>0.515591</td>\n",
       "      <td>-1.689293</td>\n",
       "      <td>0.622763</td>\n",
       "      <td>-0.958986</td>\n",
       "    </tr>\n",
       "    <tr>\n",
       "      <th>4</th>\n",
       "      <td>0.637836</td>\n",
       "      <td>-0.036534</td>\n",
       "      <td>-0.020487</td>\n",
       "      <td>0.584991</td>\n",
       "      <td>0.732111</td>\n",
       "    </tr>\n",
       "  </tbody>\n",
       "</table>\n",
       "</div>"
      ],
      "text/plain": [
       "          0         1         2         3         4\n",
       "0  0.030099 -0.405989  0.295981 -0.526300  1.145245\n",
       "1  0.302822  1.484632 -0.680715  0.167210 -0.282413\n",
       "2 -0.350472 -0.375773  0.019144  1.094130  0.317750\n",
       "3  0.310562  0.515591 -1.689293  0.622763 -0.958986\n",
       "4  0.637836 -0.036534 -0.020487  0.584991  0.732111"
      ]
     },
     "execution_count": 52,
     "metadata": {},
     "output_type": "execute_result"
    }
   ],
   "source": [
    "mediandf = df.apply(lambda x: x.fillna(x.median()),axis=0)\n",
    "mediandf.head()"
   ]
  },
  {
   "cell_type": "code",
   "execution_count": 56,
   "metadata": {
    "collapsed": false
   },
   "outputs": [
    {
     "data": {
      "text/plain": [
       "array([[<matplotlib.axes._subplots.AxesSubplot object at 0x0000000010551668>,\n",
       "        <matplotlib.axes._subplots.AxesSubplot object at 0x0000000010683A90>],\n",
       "       [<matplotlib.axes._subplots.AxesSubplot object at 0x0000000010C59438>,\n",
       "        <matplotlib.axes._subplots.AxesSubplot object at 0x0000000010D41860>],\n",
       "       [<matplotlib.axes._subplots.AxesSubplot object at 0x0000000010DC9208>,\n",
       "        <matplotlib.axes._subplots.AxesSubplot object at 0x0000000010D5D828>]], dtype=object)"
      ]
     },
     "execution_count": 56,
     "metadata": {},
     "output_type": "execute_result"
    },
    {
     "data": {
      "image/png": "[encoded data removed]",
      "text/plain": [
       "<matplotlib.figure.Figure at 0x10a76160>"
      ]
     },
     "metadata": {},
     "output_type": "display_data"
    }
   ],
   "source": [
    "%matplotlib inline\n",
    "cleandf.hist(layout=(3,2))"
   ]
  },
  {
   "cell_type": "code",
   "execution_count": 57,
   "metadata": {
    "collapsed": false
   },
   "outputs": [
    {
     "data": {
      "text/plain": [
       "array([[<matplotlib.axes._subplots.AxesSubplot object at 0x000000001145DD68>,\n",
       "        <matplotlib.axes._subplots.AxesSubplot object at 0x00000000111C2278>],\n",
       "       [<matplotlib.axes._subplots.AxesSubplot object at 0x000000001171BBE0>,\n",
       "        <matplotlib.axes._subplots.AxesSubplot object at 0x00000000117D0128>],\n",
       "       [<matplotlib.axes._subplots.AxesSubplot object at 0x0000000011890B38>,\n",
       "        <matplotlib.axes._subplots.AxesSubplot object at 0x00000000117E9DA0>]], dtype=object)"
      ]
     },
     "execution_count": 57,
     "metadata": {},
     "output_type": "execute_result"
    },
    {
     "data": {
      "image/png": "[encoded data removed]",
      "text/plain": [
       "<matplotlib.figure.Figure at 0x1146d0b8>"
      ]
     },
     "metadata": {},
     "output_type": "display_data"
    }
   ],
   "source": [
    "df.hist(layout=(3,2))"
   ]
  },
  {
   "cell_type": "code",
   "execution_count": 58,
   "metadata": {
    "collapsed": false
   },
   "outputs": [
    {
     "data": {
      "text/plain": [
       "array([[<matplotlib.axes._subplots.AxesSubplot object at 0x000000001124C4E0>,\n",
       "        <matplotlib.axes._subplots.AxesSubplot object at 0x0000000011C26550>],\n",
       "       [<matplotlib.axes._subplots.AxesSubplot object at 0x0000000012199DD8>,\n",
       "        <matplotlib.axes._subplots.AxesSubplot object at 0x000000001224E278>],\n",
       "       [<matplotlib.axes._subplots.AxesSubplot object at 0x000000001234BB00>,\n",
       "        <matplotlib.axes._subplots.AxesSubplot object at 0x0000000012456668>]], dtype=object)"
      ]
     },
     "execution_count": 58,
     "metadata": {},
     "output_type": "execute_result"
    },
    {
     "data": {
      "image/png": "[encoded data removed]",
      "text/plain": [
       "<matplotlib.figure.Figure at 0x11b18278>"
      ]
     },
     "metadata": {},
     "output_type": "display_data"
    }
   ],
   "source": [
    "mediandf.hist(layout=(3,2))"
   ]
  },
  {
   "cell_type": "code",
   "execution_count": null,
   "metadata": {
    "collapsed": true
   },
   "outputs": [],
   "source": []
  }
 ],
 "metadata": {
  "anaconda-cloud": {},
  "kernelspec": {
   "display_name": "Python [conda root]",
   "language": "python",
   "name": "conda-root-py"
  },
  "language_info": {
   "codemirror_mode": {
    "name": "ipython",
    "version": 2
   },
   "file_extension": ".py",
   "mimetype": "text/x-python",
   "name": "python",
   "nbconvert_exporter": "python",
   "pygments_lexer": "ipython2",
   "version": "2.7.12"
  }
 },
 "nbformat": 4,
 "nbformat_minor": 1
}
